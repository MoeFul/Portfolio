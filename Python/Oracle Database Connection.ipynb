{
 "cells": [
  {
   "cell_type": "markdown",
   "metadata": {},
   "source": [
    "cx_Oracle documentation: https://cx-oracle.readthedocs.io/en/latest/\n",
    "\n",
    "sqlalchemy documentation: https://docs.sqlalchemy.org/en/13/"
   ]
  },
  {
   "cell_type": "code",
   "execution_count": 4,
   "metadata": {},
   "outputs": [],
   "source": [
    "#Import and define connection info using both cx_Oracle and sqlalchemy libraries\n",
    "import cx_Oracle\n",
    "import pandas as pd\n",
    "from sqlalchemy import types, create_engine\n",
    "user = 'User'\n",
    "password = 'pswd'\n",
    "database = 'host/OracleDBConn@192.168.0.1'\n",
    "connection = cx_Oracle.connect(user, password, database)   # cx_oracle connection\n",
    "connection2 = create_engine('oracle+cx_oracle:%s:%s:%s' %user,%password,%database) # sqlalchemy connection"
   ]
  },
  {
   "cell_type": "code",
   "execution_count": 5,
   "metadata": {},
   "outputs": [],
   "source": [
    "#Define SQL string to pass to the Oracle database.\n",
    "SQL = \"\"\"Select * FROM \n",
    "            <SCHEMA>.Table1\"\"\""
   ]
  },
  {
   "cell_type": "code",
   "execution_count": null,
   "metadata": {},
   "outputs": [],
   "source": [
    "#Generate a pandas dataframe of the query results\n",
    "data = pd.read_sql(sql,connection)"
   ]
  },
  {
   "cell_type": "code",
   "execution_count": null,
   "metadata": {},
   "outputs": [],
   "source": [
    "#Create and write dataframe to new table using connection2. If the table already exists, overwrite it.\n",
    "data.to_sql(table2,connection2,if_exists='replace')"
   ]
  },
  {
   "cell_type": "code",
   "execution_count": null,
   "metadata": {},
   "outputs": [],
   "source": [
    "#Write to a csv file\n",
    "path = '/users/morgan/desktop/data.csv'\n",
    "data.to_csv(path)"
   ]
  }
 ],
 "metadata": {
  "kernelspec": {
   "display_name": "Python 3",
   "language": "python",
   "name": "python3"
  },
  "language_info": {
   "codemirror_mode": {
    "name": "ipython",
    "version": 3
   },
   "file_extension": ".py",
   "mimetype": "text/x-python",
   "name": "python",
   "nbconvert_exporter": "python",
   "pygments_lexer": "ipython3",
   "version": "3.7.3"
  }
 },
 "nbformat": 4,
 "nbformat_minor": 2
}
