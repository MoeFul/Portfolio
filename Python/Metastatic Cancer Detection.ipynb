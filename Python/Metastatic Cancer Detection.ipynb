{
 "cells": [
  {
   "cell_type": "markdown",
   "metadata": {},
   "source": [
    "# Kaggle Competition: Histopathologic Cancer Detection\n",
    "   -https://www.kaggle.com/c/histopathologic-cancer-detection\n",
    "   \n",
    "\"In this competition, you must create an algorithm to identify metastatic cancer in small image patches taken from larger digital pathology scans. The data for this competition is a slightly modified version of the PatchCamelyon (PCam) benchmark dataset (the original PCam dataset contains duplicate images due to its probabilistic sampling, however, the version presented on Kaggle does not contain duplicates).\"\n",
    "\n",
    "[1] B. S. Veeling, J. Linmans, J. Winkens, T. Cohen, M. Welling. \"Rotation Equivariant CNNs for Digital Pathology\". arXiv:1806.03962\n",
    "\n",
    "Public Kernals Referenced - https://www.kaggle.com/vbookshelf/cnn-how-to-use-160-000-images-without-crashing"
   ]
  },
  {
   "cell_type": "markdown",
   "metadata": {},
   "source": [
    "## Import necessary Keras libraries for both image pre-processing and convnets"
   ]
  },
  {
   "cell_type": "code",
   "execution_count": 1,
   "metadata": {},
   "outputs": [
    {
     "name": "stderr",
     "output_type": "stream",
     "text": [
      "Using TensorFlow backend.\n"
     ]
    }
   ],
   "source": [
    "from keras.utils import to_categorical\n",
    "from keras.preprocessing.image import ImageDataGenerator\n",
    "from keras.models import Sequential\n",
    "from keras.layers import Dense, Dropout, Flatten, BatchNormalization, Activation\n",
    "from keras.layers import Conv2D, MaxPool2D\n",
    "from keras.optimizers import RMSprop, Adam\n",
    "from keras.callbacks import ModelCheckpoint, ReduceLROnPlateau"
   ]
  },
  {
   "cell_type": "markdown",
   "metadata": {},
   "source": [
    "## Import Necessary Scikit Learn libraries for testing and validation"
   ]
  },
  {
   "cell_type": "code",
   "execution_count": 2,
   "metadata": {},
   "outputs": [],
   "source": [
    "from sklearn.utils import shuffle\n",
    "from sklearn.model_selection import train_test_split\n",
    "from skimage.io import imread \n",
    "from sklearn.metrics import roc_auc_score, roc_curve, auc\n",
    "from sklearn.metrics import confusion_matrix\n",
    "from sklearn.metrics import classification_report"
   ]
  },
  {
   "cell_type": "markdown",
   "metadata": {},
   "source": [
    "## Import Necessary libraries for house cleaning and directory structure"
   ]
  },
  {
   "cell_type": "code",
   "execution_count": 44,
   "metadata": {},
   "outputs": [],
   "source": [
    "import numpy as np\n",
    "import pandas as pd\n",
    "import shutil\n",
    "import os\n",
    "from glob import glob\n",
    "import itertools"
   ]
  },
  {
   "cell_type": "markdown",
   "metadata": {},
   "source": [
    "## Define the local directores for all image files for image classification. Restructure local directories to only include files by the corrosponding label."
   ]
  },
  {
   "cell_type": "code",
   "execution_count": 4,
   "metadata": {},
   "outputs": [],
   "source": [
    "#Define the current directories for all files. \n",
    "#Generate a dataframe from the train_labels.csv file.\n",
    "Primary_dir = ('D:/Kaggle/Cancer Detection/histopathologic-cancer-detection/')\n",
    "train = ('D:/Kaggle/Cancer Detection/histopathologic-cancer-detection/train/')\n",
    "test = ('D:/Kaggle/Cancer Detection/histopathologic-cancer-detection/test/')\n",
    "labels = pd.read_csv('D:/Kaggle/Cancer Detection/histopathologic-cancer-detection/train_labels.csv')"
   ]
  },
  {
   "cell_type": "code",
   "execution_count": 5,
   "metadata": {},
   "outputs": [
    {
     "name": "stdout",
     "output_type": "stream",
     "text": [
      "Train Files = 220025 Validation Files = 57458\n"
     ]
    }
   ],
   "source": [
    "#Preview the total number of files provided and the train_labels.csv\n",
    "print('Train Files =',len(os.listdir(train)), 'Validation Files =',len(os.listdir(test)))"
   ]
  },
  {
   "cell_type": "code",
   "execution_count": 6,
   "metadata": {},
   "outputs": [
    {
     "data": {
      "text/html": [
       "<div>\n",
       "<style scoped>\n",
       "    .dataframe tbody tr th:only-of-type {\n",
       "        vertical-align: middle;\n",
       "    }\n",
       "\n",
       "    .dataframe tbody tr th {\n",
       "        vertical-align: top;\n",
       "    }\n",
       "\n",
       "    .dataframe thead th {\n",
       "        text-align: right;\n",
       "    }\n",
       "</style>\n",
       "<table border=\"1\" class=\"dataframe\">\n",
       "  <thead>\n",
       "    <tr style=\"text-align: right;\">\n",
       "      <th></th>\n",
       "      <th>path</th>\n",
       "      <th>id</th>\n",
       "      <th>label</th>\n",
       "    </tr>\n",
       "  </thead>\n",
       "  <tbody>\n",
       "    <tr>\n",
       "      <th>0</th>\n",
       "      <td>D:/Kaggle/Cancer Detection/histopathologic-can...</td>\n",
       "      <td>00001b2b5609af42ab0ab276dd4cd41c3e7745b5</td>\n",
       "      <td>1</td>\n",
       "    </tr>\n",
       "    <tr>\n",
       "      <th>1</th>\n",
       "      <td>D:/Kaggle/Cancer Detection/histopathologic-can...</td>\n",
       "      <td>000020de2aa6193f4c160e398a8edea95b1da598</td>\n",
       "      <td>0</td>\n",
       "    </tr>\n",
       "    <tr>\n",
       "      <th>2</th>\n",
       "      <td>D:/Kaggle/Cancer Detection/histopathologic-can...</td>\n",
       "      <td>00004aab08381d25d315384d646f5ce413ea24b1</td>\n",
       "      <td>0</td>\n",
       "    </tr>\n",
       "    <tr>\n",
       "      <th>3</th>\n",
       "      <td>D:/Kaggle/Cancer Detection/histopathologic-can...</td>\n",
       "      <td>0000d563d5cfafc4e68acb7c9829258a298d9b6a</td>\n",
       "      <td>0</td>\n",
       "    </tr>\n",
       "    <tr>\n",
       "      <th>4</th>\n",
       "      <td>D:/Kaggle/Cancer Detection/histopathologic-can...</td>\n",
       "      <td>0000da768d06b879e5754c43e2298ce48726f722</td>\n",
       "      <td>1</td>\n",
       "    </tr>\n",
       "  </tbody>\n",
       "</table>\n",
       "</div>"
      ],
      "text/plain": [
       "                                                path  \\\n",
       "0  D:/Kaggle/Cancer Detection/histopathologic-can...   \n",
       "1  D:/Kaggle/Cancer Detection/histopathologic-can...   \n",
       "2  D:/Kaggle/Cancer Detection/histopathologic-can...   \n",
       "3  D:/Kaggle/Cancer Detection/histopathologic-can...   \n",
       "4  D:/Kaggle/Cancer Detection/histopathologic-can...   \n",
       "\n",
       "                                         id  label  \n",
       "0  00001b2b5609af42ab0ab276dd4cd41c3e7745b5      1  \n",
       "1  000020de2aa6193f4c160e398a8edea95b1da598      0  \n",
       "2  00004aab08381d25d315384d646f5ce413ea24b1      0  \n",
       "3  0000d563d5cfafc4e68acb7c9829258a298d9b6a      0  \n",
       "4  0000da768d06b879e5754c43e2298ce48726f722      1  "
      ]
     },
     "execution_count": 6,
     "metadata": {},
     "output_type": "execute_result"
    }
   ],
   "source": [
    "#Build a single dataframe that includes each of the images unique id, file path, and corrosponding label (1,0).\n",
    "df = pd.DataFrame({'path': glob(os.path.join(train,'*.tif'))})\n",
    "df['id'] = df.path.map(lambda x: x.split('\\\\')[1].split(\".\")[0])\n",
    "df_data = df.merge(labels, on = 'id')\n",
    "df_data.head()"
   ]
  },
  {
   "cell_type": "code",
   "execution_count": 7,
   "metadata": {},
   "outputs": [
    {
     "data": {
      "text/plain": [
       "label\n",
       "0    130908\n",
       "1     89117\n",
       "Name: id, dtype: int64"
      ]
     },
     "execution_count": 7,
     "metadata": {},
     "output_type": "execute_result"
    }
   ],
   "source": [
    "#preview the count of images by their corrosponding label.\n",
    "df_data.groupby('label').id.nunique()"
   ]
  },
  {
   "cell_type": "markdown",
   "metadata": {},
   "source": [
    "## We will need a balanced random sample of all images by classification (50/50). We want to prevent any bias in our convnet due to overfitting to our training data."
   ]
  },
  {
   "cell_type": "code",
   "execution_count": 8,
   "metadata": {},
   "outputs": [
    {
     "data": {
      "text/plain": [
       "label\n",
       "0    80000\n",
       "1    80000\n",
       "Name: id, dtype: int64"
      ]
     },
     "execution_count": 8,
     "metadata": {},
     "output_type": "execute_result"
    }
   ],
   "source": [
    "SAMPLE_SIZE = 80000\n",
    "# take a random sample of class 0\n",
    "df_0 = df_data[df_data['label'] == 0].sample(SAMPLE_SIZE, random_state = 101)\n",
    "# take a random sample of class 1\n",
    "df_1 = df_data[df_data['label'] == 1].sample(SAMPLE_SIZE, random_state = 101)\n",
    "#Shuffle and concatenate both df_0 and df_1 into one dataframe.\n",
    "df_data = shuffle(pd.concat([df_0, df_1], axis=0).reset_index(drop=True))\n",
    "#Count distinct ids by corrosponding label (50/50 split)\n",
    "df_data.groupby('label').id.nunique()"
   ]
  },
  {
   "cell_type": "markdown",
   "metadata": {},
   "source": [
    "## Use the train_test_split function to break our data into both a training set and validation set (90/10) split due to the vast amount of images available)"
   ]
  },
  {
   "cell_type": "code",
   "execution_count": 9,
   "metadata": {},
   "outputs": [],
   "source": [
    "#Breakout df_data into two groups via train test split. Validation group will consist of 10% of our total images. \n",
    "y = df_data['label']\n",
    "df_train, df_val = train_test_split(df_data, test_size=0.10, random_state=101, stratify=y)"
   ]
  },
  {
   "cell_type": "markdown",
   "metadata": {},
   "source": [
    "## Generate new directores to process data into our model"
   ]
  },
  {
   "cell_type": "code",
   "execution_count": 15,
   "metadata": {},
   "outputs": [],
   "source": [
    "os.mkdir('D:/Kaggle/Cancer Detection/histopathologic-cancer-detection/train_dir')\n",
    "os.mkdir('D:/Kaggle/Cancer Detection/histopathologic-cancer-detection/val_dir')\n",
    "os.mkdir('D:/Kaggle/Cancer Detection/histopathologic-cancer-detection/test_dir')"
   ]
  },
  {
   "cell_type": "code",
   "execution_count": 16,
   "metadata": {},
   "outputs": [],
   "source": [
    "os.mkdir('D:/Kaggle/Cancer Detection/histopathologic-cancer-detection/train_dir/a_no_tumor_tissue')\n",
    "os.mkdir('D:/Kaggle/Cancer Detection/histopathologic-cancer-detection/train_dir/b_has_tumor_tissue')\n",
    "os.mkdir('D:/Kaggle/Cancer Detection/histopathologic-cancer-detection/val_dir/a_no_tumor_tissue')\n",
    "os.mkdir('D:/Kaggle/Cancer Detection/histopathologic-cancer-detection/val_dir/b_has_tumor_tissue')"
   ]
  },
  {
   "cell_type": "markdown",
   "metadata": {},
   "source": [
    "## Transfer images to the correct folders based on labels. \n",
    "Referenced public kernal for guidance - https://www.kaggle.com/vbookshelf/cnn-how-to-use-160-000-images-without-crashing"
   ]
  },
  {
   "cell_type": "code",
   "execution_count": 22,
   "metadata": {},
   "outputs": [],
   "source": [
    "train_list = list(df_train['id'])\n",
    "val_list = list(df_val['id'])\n",
    "df_data.set_index('id',inplace=True)\n",
    "\n",
    "# Transfer the train images\n",
    "for image in train_list:\n",
    "    \n",
    "    # the id in the csv file does not have the .tif extension therefore we add it here\n",
    "    fname = image + '.tif'\n",
    "    # get the label for a certain image\n",
    "    target = df_data.loc[image,'label']\n",
    "    \n",
    "    # these must match the folder names\n",
    "    if target == 0:\n",
    "        label = 'a_no_tumor_tissue'\n",
    "    if target == 1:\n",
    "        label = 'b_has_tumor_tissue'\n",
    "    \n",
    "    # source path to image\n",
    "    src = os.path.join('D:/Kaggle/Cancer Detection/histopathologic-cancer-detection/train/', fname)\n",
    "    # destination path to image\n",
    "    dst = os.path.join('D:/Kaggle/Cancer Detection/histopathologic-cancer-detection/train_dir/', label, fname)\n",
    "    # copy the image from the source to the destination\n",
    "    shutil.copyfile(src, dst)\n",
    "    \n",
    "# Transfer the val images\n",
    "\n",
    "for image in val_list:\n",
    "    \n",
    "    # the id in the csv file does not have the .tif extension therefore we add it here\n",
    "    fname = image + '.tif'\n",
    "    # get the label for a certain image\n",
    "    target = df_data.loc[image,'label']\n",
    "    \n",
    "    # these must match the folder names\n",
    "    if target == 0:\n",
    "        label = 'a_no_tumor_tissue'\n",
    "    if target == 1:\n",
    "        label = 'b_has_tumor_tissue'\n",
    "    \n",
    "\n",
    "    # source path to image\n",
    "    src = os.path.join('D:/Kaggle/Cancer Detection/histopathologic-cancer-detection/train', fname)\n",
    "    # destination path to image\n",
    "    dst = os.path.join('D:/Kaggle/Cancer Detection/histopathologic-cancer-detection/val_dir/', label, fname)\n",
    "    # copy the image from the source to the destination\n",
    "    shutil.copyfile(src, dst)"
   ]
  },
  {
   "cell_type": "code",
   "execution_count": 10,
   "metadata": {},
   "outputs": [
    {
     "name": "stdout",
     "output_type": "stream",
     "text": [
      "72000\n",
      "72000\n",
      "8000\n",
      "8000\n"
     ]
    }
   ],
   "source": [
    "#Validate images in our local directories \n",
    "print(len(os.listdir('C:/Kaggle/train_dir/a_no_tumor_tissue')))\n",
    "print(len(os.listdir('C:/Kaggle/train_dir/b_has_tumor_tissue')))\n",
    "print(len(os.listdir('C:/Kaggle/val_dir/a_no_tumor_tissue')))\n",
    "print(len(os.listdir('C:/Kaggle/val_dir/b_has_tumor_tissue')))"
   ]
  },
  {
   "cell_type": "code",
   "execution_count": 11,
   "metadata": {},
   "outputs": [],
   "source": [
    "train_path = 'C:/Kaggle/train_dir/'\n",
    "valid_path = 'C:/Kaggle/val_dir/'\n",
    "test_path = 'C:\\Kaggle/test_dir'\n",
    "\n",
    "num_train_samples = len(df_train)\n",
    "num_val_samples = len(df_val)\n",
    "train_batch_size = 10\n",
    "val_batch_size = 10\n",
    "\n",
    "\n",
    "train_steps = np.ceil(num_train_samples / train_batch_size)\n",
    "val_steps = np.ceil(num_val_samples / val_batch_size)"
   ]
  },
  {
   "cell_type": "markdown",
   "metadata": {},
   "source": [
    "## Specify the standard image size (96 pixels) and image channels (3 R/G/B). Designate the class_mode variable as 'binary' as this is a binary (1/0) classification problem. Use flow_from_directory to generate a pipeline for our images."
   ]
  },
  {
   "cell_type": "code",
   "execution_count": 12,
   "metadata": {},
   "outputs": [
    {
     "name": "stdout",
     "output_type": "stream",
     "text": [
      "Found 144000 images belonging to 2 classes.\n",
      "Found 16000 images belonging to 2 classes.\n",
      "Found 16000 images belonging to 2 classes.\n"
     ]
    }
   ],
   "source": [
    "IMAGE_SIZE = 96\n",
    "IMAGE_CHANNELS = 3\n",
    "\n",
    "datagen = ImageDataGenerator(rescale=1.0/255)\n",
    "\n",
    "train_gen = datagen.flow_from_directory(train_path,\n",
    "                                        target_size=(IMAGE_SIZE,IMAGE_SIZE),\n",
    "                                        batch_size=train_batch_size,\n",
    "                                        class_mode='binary')\n",
    "\n",
    "val_gen = datagen.flow_from_directory(valid_path,\n",
    "                                        target_size=(IMAGE_SIZE,IMAGE_SIZE),\n",
    "                                        batch_size=val_batch_size,\n",
    "                                        class_mode='binary')\n",
    "\n",
    "test_gen = datagen.flow_from_directory(valid_path,\n",
    "                                        target_size=(IMAGE_SIZE,IMAGE_SIZE),\n",
    "                                        batch_size=1,\n",
    "                                        class_mode='binary',\n",
    "                                        shuffle=False)"
   ]
  },
  {
   "cell_type": "markdown",
   "metadata": {},
   "source": [
    "## Convnet was modeled after VGGnet due to  increased depth. Could not complete all 16/19 layers due to resource constraints with GPU.\n",
    "Example:http://cs231n.github.io/convolutional-networks/\n",
    "\n",
    "VGGNet: http://www.robots.ox.ac.uk/~vgg/research/very_deep/"
   ]
  },
  {
   "cell_type": "code",
   "execution_count": 13,
   "metadata": {},
   "outputs": [
    {
     "name": "stdout",
     "output_type": "stream",
     "text": [
      "_________________________________________________________________\n",
      "Layer (type)                 Output Shape              Param #   \n",
      "=================================================================\n",
      "conv2d_1 (Conv2D)            (None, 94, 94, 32)        896       \n",
      "_________________________________________________________________\n",
      "conv2d_2 (Conv2D)            (None, 92, 92, 32)        9248      \n",
      "_________________________________________________________________\n",
      "max_pooling2d_1 (MaxPooling2 (None, 46, 46, 32)        0         \n",
      "_________________________________________________________________\n",
      "dropout_1 (Dropout)          (None, 46, 46, 32)        0         \n",
      "_________________________________________________________________\n",
      "conv2d_3 (Conv2D)            (None, 44, 44, 64)        18496     \n",
      "_________________________________________________________________\n",
      "conv2d_4 (Conv2D)            (None, 42, 42, 64)        36928     \n",
      "_________________________________________________________________\n",
      "max_pooling2d_2 (MaxPooling2 (None, 21, 21, 64)        0         \n",
      "_________________________________________________________________\n",
      "dropout_2 (Dropout)          (None, 21, 21, 64)        0         \n",
      "_________________________________________________________________\n",
      "conv2d_5 (Conv2D)            (None, 19, 19, 128)       73856     \n",
      "_________________________________________________________________\n",
      "conv2d_6 (Conv2D)            (None, 17, 17, 128)       147584    \n",
      "_________________________________________________________________\n",
      "conv2d_7 (Conv2D)            (None, 15, 15, 128)       147584    \n",
      "_________________________________________________________________\n",
      "max_pooling2d_3 (MaxPooling2 (None, 7, 7, 128)         0         \n",
      "_________________________________________________________________\n",
      "dropout_3 (Dropout)          (None, 7, 7, 128)         0         \n",
      "_________________________________________________________________\n",
      "flatten_1 (Flatten)          (None, 6272)              0         \n",
      "_________________________________________________________________\n",
      "dense_1 (Dense)              (None, 256)               1605888   \n",
      "_________________________________________________________________\n",
      "dropout_4 (Dropout)          (None, 256)               0         \n",
      "_________________________________________________________________\n",
      "dense_2 (Dense)              (None, 1)                 257       \n",
      "=================================================================\n",
      "Total params: 2,040,737\n",
      "Trainable params: 2,040,737\n",
      "Non-trainable params: 0\n",
      "_________________________________________________________________\n"
     ]
    }
   ],
   "source": [
    "kernel_size = (3,3) #Height and Width of the convolution window. \n",
    "pool_size= (2,2) #Size of the max pooling windows\n",
    "first_filters = 32 \n",
    "second_filters = 64\n",
    "third_filters = 128\n",
    "\n",
    "dropout_conv = 0.3\n",
    "dropout_dense = 0.3\n",
    "\n",
    "\n",
    "model = Sequential()\n",
    "model.add(Conv2D(first_filters, kernel_size, activation = 'relu', input_shape = (96, 96, 3)))\n",
    "model.add(Conv2D(first_filters, kernel_size, activation = 'relu'))\n",
    "model.add(MaxPool2D(pool_size = pool_size)) \n",
    "model.add(Dropout(dropout_conv))\n",
    "\n",
    "model.add(Conv2D(second_filters, kernel_size, activation ='relu'))\n",
    "model.add(Conv2D(second_filters, kernel_size, activation ='relu'))\n",
    "model.add(MaxPool2D(pool_size = pool_size))\n",
    "model.add(Dropout(dropout_conv))\n",
    "\n",
    "model.add(Conv2D(third_filters, kernel_size, activation ='relu'))\n",
    "model.add(Conv2D(third_filters, kernel_size, activation ='relu'))\n",
    "model.add(Conv2D(third_filters, kernel_size, activation ='relu'))\n",
    "model.add(MaxPool2D(pool_size = pool_size))\n",
    "model.add(Dropout(dropout_conv))\n",
    "\n",
    "model.add(Flatten())\n",
    "model.add(Dense(256, activation = \"relu\"))\n",
    "model.add(Dropout(dropout_dense))\n",
    "model.add(Dense(1, activation = \"sigmoid\"))\n",
    "\n",
    "model.summary()"
   ]
  },
  {
   "cell_type": "markdown",
   "metadata": {},
   "source": [
    "## Utilizing the adam optimizor and the binary_crossentropy loss function. \n",
    "## Goal: Optimize accuracy and minimize loss\n",
    "## During training our model will optimize on validation accuracy and save only the weights that generate the best results. Our learning rate will be reduced by a factor of .5 upon plateau. We will go through 20 iterations (epochs) to see the benefits of backpropogation."
   ]
  },
  {
   "cell_type": "code",
   "execution_count": 14,
   "metadata": {},
   "outputs": [],
   "source": [
    "model.compile(Adam(lr=0.0001), loss='binary_crossentropy', \n",
    "              metrics=['accuracy'])"
   ]
  },
  {
   "cell_type": "code",
   "execution_count": 15,
   "metadata": {},
   "outputs": [
    {
     "name": "stdout",
     "output_type": "stream",
     "text": [
      "Epoch 1/20\n",
      "14400/14400 [==============================] - 212s 15ms/step - loss: 0.4355 - acc: 0.7982 - val_loss: 0.4023 - val_acc: 0.8139\n",
      "\n",
      "Epoch 00001: val_acc improved from -inf to 0.81387, saving model to model.h1\n",
      "Epoch 2/20\n",
      "14400/14400 [==============================] - 184s 13ms/step - loss: 0.3421 - acc: 0.8517 - val_loss: 0.3571 - val_acc: 0.8511\n",
      "\n",
      "Epoch 00002: val_acc improved from 0.81387 to 0.85106, saving model to model.h1\n",
      "Epoch 3/20\n",
      "14400/14400 [==============================] - 184s 13ms/step - loss: 0.2931 - acc: 0.8762 - val_loss: 0.2802 - val_acc: 0.8784\n",
      "\n",
      "Epoch 00003: val_acc improved from 0.85106 to 0.87844, saving model to model.h1\n",
      "Epoch 4/20\n",
      "14400/14400 [==============================] - 186s 13ms/step - loss: 0.2668 - acc: 0.8894 - val_loss: 0.2587 - val_acc: 0.8926\n",
      "\n",
      "Epoch 00004: val_acc improved from 0.87844 to 0.89262, saving model to model.h1\n",
      "Epoch 5/20\n",
      "14400/14400 [==============================] - 185s 13ms/step - loss: 0.2472 - acc: 0.8994 - val_loss: 0.2955 - val_acc: 0.8812\n",
      "\n",
      "Epoch 00005: val_acc did not improve from 0.89262\n",
      "Epoch 6/20\n",
      "14400/14400 [==============================] - 185s 13ms/step - loss: 0.2331 - acc: 0.9062 - val_loss: 0.2519 - val_acc: 0.8960\n",
      "\n",
      "Epoch 00006: val_acc improved from 0.89262 to 0.89600, saving model to model.h1\n",
      "Epoch 7/20\n",
      "14400/14400 [==============================] - 185s 13ms/step - loss: 0.2205 - acc: 0.9122 - val_loss: 0.2196 - val_acc: 0.9095\n",
      "\n",
      "Epoch 00007: val_acc improved from 0.89600 to 0.90950, saving model to model.h1\n",
      "Epoch 8/20\n",
      "14400/14400 [==============================] - 185s 13ms/step - loss: 0.2101 - acc: 0.9173 - val_loss: 0.2025 - val_acc: 0.9202\n",
      "\n",
      "Epoch 00008: val_acc improved from 0.90950 to 0.92025, saving model to model.h1\n",
      "Epoch 9/20\n",
      "14400/14400 [==============================] - 185s 13ms/step - loss: 0.1997 - acc: 0.9217 - val_loss: 0.1716 - val_acc: 0.9332\n",
      "\n",
      "Epoch 00009: val_acc improved from 0.92025 to 0.93325, saving model to model.h1\n",
      "Epoch 10/20\n",
      "14400/14400 [==============================] - 185s 13ms/step - loss: 0.1929 - acc: 0.9255 - val_loss: 0.1801 - val_acc: 0.9319\n",
      "\n",
      "Epoch 00010: val_acc did not improve from 0.93325\n",
      "Epoch 11/20\n",
      "14400/14400 [==============================] - 185s 13ms/step - loss: 0.1861 - acc: 0.9276 - val_loss: 0.1734 - val_acc: 0.9367\n",
      "\n",
      "Epoch 00011: val_acc improved from 0.93325 to 0.93669, saving model to model.h1\n",
      "Epoch 12/20\n",
      "14400/14400 [==============================] - 185s 13ms/step - loss: 0.1783 - acc: 0.9310 - val_loss: 0.1523 - val_acc: 0.9431\n",
      "\n",
      "Epoch 00012: val_acc improved from 0.93669 to 0.94306, saving model to model.h1\n",
      "Epoch 13/20\n",
      "14400/14400 [==============================] - 185s 13ms/step - loss: 0.1728 - acc: 0.9338 - val_loss: 0.1669 - val_acc: 0.9360\n",
      "\n",
      "Epoch 00013: val_acc did not improve from 0.94306\n",
      "Epoch 14/20\n",
      "14400/14400 [==============================] - 185s 13ms/step - loss: 0.1667 - acc: 0.9359 - val_loss: 0.1813 - val_acc: 0.9296\n",
      "\n",
      "Epoch 00014: val_acc did not improve from 0.94306\n",
      "\n",
      "Epoch 00014: ReduceLROnPlateau reducing learning rate to 4.999999873689376e-05.\n",
      "Epoch 15/20\n",
      "14400/14400 [==============================] - 185s 13ms/step - loss: 0.1418 - acc: 0.9457 - val_loss: 0.1428 - val_acc: 0.9459\n",
      "\n",
      "Epoch 00015: val_acc improved from 0.94306 to 0.94587, saving model to model.h1\n",
      "Epoch 16/20\n",
      "14400/14400 [==============================] - 185s 13ms/step - loss: 0.1365 - acc: 0.9477 - val_loss: 0.1597 - val_acc: 0.9387\n",
      "\n",
      "Epoch 00016: val_acc did not improve from 0.94587\n",
      "Epoch 17/20\n",
      "14400/14400 [==============================] - 185s 13ms/step - loss: 0.1328 - acc: 0.9502 - val_loss: 0.1664 - val_acc: 0.9354\n",
      "\n",
      "Epoch 00017: val_acc did not improve from 0.94587\n",
      "\n",
      "Epoch 00017: ReduceLROnPlateau reducing learning rate to 2.499999936844688e-05.\n",
      "Epoch 18/20\n",
      "14400/14400 [==============================] - 185s 13ms/step - loss: 0.1189 - acc: 0.9554 - val_loss: 0.1524 - val_acc: 0.9430\n",
      "\n",
      "Epoch 00018: val_acc did not improve from 0.94587\n",
      "Epoch 19/20\n",
      "14400/14400 [==============================] - 185s 13ms/step - loss: 0.1141 - acc: 0.9572 - val_loss: 0.1688 - val_acc: 0.9384\n",
      "\n",
      "Epoch 00019: val_acc did not improve from 0.94587\n",
      "\n",
      "Epoch 00019: ReduceLROnPlateau reducing learning rate to 1.249999968422344e-05.\n",
      "Epoch 20/20\n",
      "14400/14400 [==============================] - 185s 13ms/step - loss: 0.1067 - acc: 0.9598 - val_loss: 0.1350 - val_acc: 0.9517\n",
      "\n",
      "Epoch 00020: val_acc improved from 0.94587 to 0.95169, saving model to model.h1\n"
     ]
    }
   ],
   "source": [
    "filepath = \"model.h1\"\n",
    "checkpoint = ModelCheckpoint(filepath, monitor='val_acc', verbose=1, \n",
    "                             save_best_only=True, mode='max')\n",
    "\n",
    "reduce_lr = ReduceLROnPlateau(monitor='val_acc', factor=0.5, patience=2, \n",
    "                                   verbose=1, mode='max', min_lr=0.00001)\n",
    "                              \n",
    "                              \n",
    "callbacks_list = [checkpoint, reduce_lr]\n",
    "\n",
    "history = model.fit_generator(train_gen, steps_per_epoch=train_steps, \n",
    "                    validation_data=val_gen,\n",
    "                    validation_steps=val_steps,\n",
    "                    epochs=20, verbose=1,\n",
    "                   callbacks=callbacks_list)"
   ]
  },
  {
   "cell_type": "code",
   "execution_count": 16,
   "metadata": {},
   "outputs": [
    {
     "name": "stdout",
     "output_type": "stream",
     "text": [
      "val_loss: 0.13498015315371129\n",
      "val_acc: 0.9516875\n"
     ]
    }
   ],
   "source": [
    "#The weights with the best validation accuracy will be used for our predictions and validation.\n",
    "\n",
    "model.load_weights('model.h1')\n",
    "\n",
    "val_loss, val_acc = \\\n",
    "model.evaluate_generator(test_gen, \n",
    "                        steps=len(df_val))\n",
    "\n",
    "print('val_loss:', val_loss)\n",
    "print('val_acc:', val_acc)"
   ]
  },
  {
   "cell_type": "code",
   "execution_count": 18,
   "metadata": {},
   "outputs": [
    {
     "data": {
      "text/plain": [
       "<function matplotlib.pyplot.show(*args, **kw)>"
      ]
     },
     "execution_count": 18,
     "metadata": {},
     "output_type": "execute_result"
    },
    {
     "data": {
      "image/png": "[encoded data removed]",
      "text/plain": [
       "<Figure size 432x288 with 1 Axes>"
      ]
     },
     "metadata": {
      "needs_background": "light"
     },
     "output_type": "display_data"
    },
    {
     "data": {
      "image/png": "[encoded data removed]",
      "text/plain": [
       "<Figure size 432x288 with 1 Axes>"
      ]
     },
     "metadata": {
      "needs_background": "light"
     },
     "output_type": "display_data"
    },
    {
     "data": {
      "text/plain": [
       "<Figure size 432x288 with 0 Axes>"
      ]
     },
     "metadata": {},
     "output_type": "display_data"
    }
   ],
   "source": [
    "# display the loss and accuracy curves\n",
    "\n",
    "import matplotlib.pyplot as plt\n",
    "\n",
    "acc = history.history['acc']\n",
    "val_acc = history.history['val_acc']\n",
    "loss = history.history['loss']\n",
    "val_loss = history.history['val_loss']\n",
    "\n",
    "epochs = range(1, len(acc) + 1)\n",
    "\n",
    "plt.plot(epochs, loss, '-b', label='Training loss')\n",
    "plt.plot(epochs, val_loss, '-g', label='Validation loss')\n",
    "plt.title('Training and validation loss')\n",
    "plt.legend()\n",
    "plt.figure()\n",
    "\n",
    "plt.plot(epochs, acc, '-b', label='Training acc')\n",
    "plt.plot(epochs, val_acc, '-g', label='Validation acc')\n",
    "plt.title('Training and validation accuracy')\n",
    "plt.legend()\n",
    "plt.figure()\n",
    "plt.show"
   ]
  },
  {
   "cell_type": "code",
   "execution_count": 19,
   "metadata": {},
   "outputs": [
    {
     "name": "stdout",
     "output_type": "stream",
     "text": [
      "16000/16000 [==============================] - 22s 1ms/step\n"
     ]
    }
   ],
   "source": [
    "# make a prediction\n",
    "predictions = model.predict_generator(test_gen, steps=len(df_val), verbose=1)"
   ]
  },
  {
   "cell_type": "code",
   "execution_count": 20,
   "metadata": {},
   "outputs": [],
   "source": [
    "y_pred = pd.DataFrame(predictions, columns =['has_tumor_issue'])"
   ]
  },
  {
   "cell_type": "code",
   "execution_count": 21,
   "metadata": {},
   "outputs": [],
   "source": [
    "y_true = pd.DataFrame(test_gen.classes)"
   ]
  },
  {
   "cell_type": "code",
   "execution_count": 22,
   "metadata": {},
   "outputs": [
    {
     "data": {
      "text/plain": [
       "0.9890202656250001"
      ]
     },
     "execution_count": 22,
     "metadata": {},
     "output_type": "execute_result"
    }
   ],
   "source": [
    "roc_auc_score(y_true, y_pred)"
   ]
  },
  {
   "cell_type": "code",
   "execution_count": 23,
   "metadata": {},
   "outputs": [],
   "source": [
    "fpr_keras, tpr_keras, thresholds_keras = roc_curve(y_true, y_pred)\n",
    "auc_keras = auc(fpr_keras, tpr_keras)"
   ]
  },
  {
   "cell_type": "code",
   "execution_count": 24,
   "metadata": {},
   "outputs": [
    {
     "data": {
      "image/png": "[encoded data removed]",
      "text/plain": [
       "<Figure size 432x288 with 1 Axes>"
      ]
     },
     "metadata": {
      "needs_background": "light"
     },
     "output_type": "display_data"
    }
   ],
   "source": [
    "plt.figure(1)\n",
    "plt.plot([0, 1], [0, 1], 'k--')\n",
    "plt.plot(fpr_keras, tpr_keras, label='area = {:.2f}'.format(auc_keras))\n",
    "plt.xlabel('False positive rate')\n",
    "plt.ylabel('True positive rate')\n",
    "plt.title('ROC curve')\n",
    "plt.legend(loc='best')\n",
    "plt.show()"
   ]
  },
  {
   "cell_type": "code",
   "execution_count": 25,
   "metadata": {},
   "outputs": [],
   "source": [
    "test_labels = test_gen.classes"
   ]
  },
  {
   "cell_type": "code",
   "execution_count": 40,
   "metadata": {},
   "outputs": [],
   "source": [
    "cm = confusion_matrix(y_true, np.round(predictions,0))"
   ]
  },
  {
   "cell_type": "code",
   "execution_count": 41,
   "metadata": {},
   "outputs": [
    {
     "data": {
      "text/plain": [
       "{'a_no_tumor_tissue': 0, 'b_has_tumor_tissue': 1}"
      ]
     },
     "execution_count": 41,
     "metadata": {},
     "output_type": "execute_result"
    }
   ],
   "source": [
    "val_gen.class_indices"
   ]
  },
  {
   "cell_type": "code",
   "execution_count": 42,
   "metadata": {},
   "outputs": [],
   "source": [
    "# Source: Scikit Learn website\n",
    "# http://scikit-learn.org/stable/auto_examples/\n",
    "# model_selection/plot_confusion_matrix.html#sphx-glr-auto-examples-model-\n",
    "# selection-plot-confusion-matrix-py\n",
    "\n",
    "def plot_confusion_matrix(cm, classes,\n",
    "                          normalize=False,\n",
    "                          title='Confusion matrix',\n",
    "                          cmap=plt.cm.Blues):\n",
    "    \"\"\"\n",
    "    This function prints and plots the confusion matrix.\n",
    "    Normalization can be applied by setting `normalize=True`.\n",
    "    \"\"\"\n",
    "    if normalize:\n",
    "        cm = cm.astype('float') / cm.sum(axis=1)[:, np.newaxis]\n",
    "        print(\"Normalized confusion matrix\")\n",
    "    else:\n",
    "        print('Confusion matrix, without normalization')\n",
    "\n",
    "    print(cm)\n",
    "\n",
    "    plt.imshow(cm, interpolation='nearest', cmap=cmap)\n",
    "    plt.title(title)\n",
    "    plt.colorbar()\n",
    "    tick_marks = np.arange(len(classes))\n",
    "    plt.xticks(tick_marks, classes, rotation=45)\n",
    "    plt.yticks(tick_marks, classes)\n",
    "\n",
    "    fmt = '.2f' if normalize else 'd'\n",
    "    thresh = cm.max() / 2.\n",
    "    for i, j in itertools.product(range(cm.shape[0]), range(cm.shape[1])):\n",
    "        plt.text(j, i, format(cm[i, j], fmt),\n",
    "                 horizontalalignment=\"center\",\n",
    "                 color=\"white\" if cm[i, j] > thresh else \"black\")\n",
    "\n",
    "    plt.ylabel('True label')\n",
    "    plt.xlabel('Predicted label')\n",
    "    plt.tight_layout()"
   ]
  },
  {
   "cell_type": "code",
   "execution_count": 45,
   "metadata": {},
   "outputs": [
    {
     "name": "stdout",
     "output_type": "stream",
     "text": [
      "Confusion matrix, without normalization\n",
      "[[7565  435]\n",
      " [ 338 7662]]\n"
     ]
    },
    {
     "data": {
      "image/png": "[encoded data removed]",
      "text/plain": [
       "<Figure size 432x288 with 2 Axes>"
      ]
     },
     "metadata": {
      "needs_background": "light"
     },
     "output_type": "display_data"
    }
   ],
   "source": [
    "cm_plot_labels = ['a_no_tumor_tissue', 'b_has_tumor_tissue']\n",
    "\n",
    "plot_confusion_matrix(cm, cm_plot_labels, title='Confusion Matrix')"
   ]
  },
  {
   "cell_type": "code",
   "execution_count": 46,
   "metadata": {},
   "outputs": [
    {
     "name": "stdout",
     "output_type": "stream",
     "text": [
      "                    precision    recall  f1-score   support\n",
      "\n",
      " a_no_tumor_tissue       0.96      0.95      0.95      8000\n",
      "b_has_tumor_tissue       0.95      0.96      0.95      8000\n",
      "\n",
      "         micro avg       0.95      0.95      0.95     16000\n",
      "         macro avg       0.95      0.95      0.95     16000\n",
      "      weighted avg       0.95      0.95      0.95     16000\n",
      "\n"
     ]
    }
   ],
   "source": [
    "#Round predictions to 1/0\n",
    "y_pred_1 = np.round(predictions,0)\n",
    "report = classification_report(y_true, y_pred_1, target_names=cm_plot_labels)\n",
    "print(report)"
   ]
  },
  {
   "cell_type": "code",
   "execution_count": null,
   "metadata": {},
   "outputs": [],
   "source": []
  }
 ],
 "metadata": {
  "kernelspec": {
   "display_name": "Python 3",
   "language": "python",
   "name": "python3"
  },
  "language_info": {
   "codemirror_mode": {
    "name": "ipython",
    "version": 3
   },
   "file_extension": ".py",
   "mimetype": "text/x-python",
   "name": "python",
   "nbconvert_exporter": "python",
   "pygments_lexer": "ipython3",
   "version": "3.6.8"
  }
 },
 "nbformat": 4,
 "nbformat_minor": 2
}
